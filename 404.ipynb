{
 "cells": [
  {
   "cell_type": "code",
   "execution_count": null,
   "id": "ca604058",
   "metadata": {
    "vscode": {
     "languageId": "plaintext"
    }
   },
   "outputs": [],
   "source": [
    "# 404\n",
    "\n",
    "Sorry but that page does not exists."
   ]
  }
 ],
 "metadata": {
  "language_info": {
   "name": "python"
  }
 },
 "nbformat": 4,
 "nbformat_minor": 5
}
